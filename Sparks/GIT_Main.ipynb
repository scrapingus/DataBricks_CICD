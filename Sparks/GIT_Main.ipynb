{
 "cells": [
  {
   "cell_type": "code",
   "execution_count": 0,
   "metadata": {
    "application/vnd.databricks.v1+cell": {
     "cellMetadata": {},
     "inputWidgets": {},
     "nuid": "8158815b-2f7a-405d-b754-f76ff6bb954c",
     "showTitle": false,
     "tableResultSettingsMap": {},
     "title": ""
    }
   },
   "outputs": [],
   "source": [
    "Print(\"The Spark Session is active\")"
   ]
  },
  {
   "cell_type": "code",
   "execution_count": 0,
   "metadata": {
    "application/vnd.databricks.v1+cell": {
     "cellMetadata": {
      "byteLimit": 2048000,
      "rowLimit": 10000
     },
     "inputWidgets": {},
     "nuid": "025f90f6-82f0-4fc3-8270-d314fb521e76",
     "showTitle": false,
     "tableResultSettingsMap": {},
     "title": ""
    }
   },
   "outputs": [],
   "source": [
    "from pyspark.sql.types import StructType, StructField, IntegerType, StringType, TimestampType, DoubleType\n",
    "from datetime import datetime\n",
    "\n",
    "schema = StructType([\n",
    "    StructField(\"transactionID\", IntegerType(), False),\n",
    "    StructField(\"customerID\", IntegerType(), False),\n",
    "    StructField(\"franchiseID\", IntegerType(), False),\n",
    "    StructField(\"dateTime\", TimestampType(), False),\n",
    "    StructField(\"product\", StringType(), False),\n",
    "    StructField(\"quantity\", IntegerType(), False),\n",
    "    StructField(\"unitPrice\", DoubleType(), False),\n",
    "    StructField(\"totalPrice\", DoubleType(), False),\n",
    "    StructField(\"paymentMethod\", StringType(), False),\n",
    "    StructField(\"cardNumber\", StringType(), True)\n",
    "])\n",
    "\n",
    "data = [\n",
    "    (1, 101, 10, datetime(2025, 7, 20, 9, 0, 0), \"Croissant\", 2, 3.5, 7.0, \"Credit Card\", \"1234-5678-9012-3456\"),\n",
    "    (2, 102, 11, datetime(2025, 7, 20, 10, 15, 0), \"Baguette\", 1, 2.0, 2.0, \"Cash\", None),\n",
    "    (3, 103, 10, datetime(2025, 7, 20, 11, 30, 0), \"Muffin\", 3, 2.5, 7.5, \"Debit Card\", \"2345-6789-0123-4567\")\n",
    "]\n",
    "\n",
    "df = spark.createDataFrame(data, schema=schema)\n",
    "\n",
    "# Create the schema if it does not exist\n",
    "spark.sql(\"CREATE SCHEMA IF NOT EXISTS dataengineering\")\n",
    "\n",
    "df.write.format(\"delta\").mode(\"overwrite\").saveAsTable(\"dataengineering.bakehouse_sample_transactions\")\n",
    "\n",
    "display(spark.table(\"dataengineering.bakehouse_sample_transactions\"))"
   ]
  },
  {
   "cell_type": "code",
   "execution_count": 0,
   "metadata": {
    "application/vnd.databricks.v1+cell": {
     "cellMetadata": {
      "byteLimit": 2048000,
      "rowLimit": 10000
     },
     "inputWidgets": {},
     "nuid": "f116808b-6c90-45f5-ab82-8b9cc0a850d3",
     "showTitle": false,
     "tableResultSettingsMap": {},
     "title": ""
    }
   },
   "outputs": [],
   "source": [
    "display(spark.table(\"dataengineering.bakehouse_sample_transactions\"))"
   ]
  },
  {
   "cell_type": "code",
   "execution_count": 0,
   "metadata": {
    "application/vnd.databricks.v1+cell": {
     "cellMetadata": {},
     "inputWidgets": {},
     "nuid": "0431791d-8f87-42c1-8887-2d79cdabb048",
     "showTitle": false,
     "tableResultSettingsMap": {},
     "title": ""
    }
   },
   "outputs": [],
   "source": []
  }
 ],
 "metadata": {
  "application/vnd.databricks.v1+notebook": {
   "computePreferences": null,
   "dashboards": [],
   "environmentMetadata": {
    "base_environment": "",
    "environment_version": "2"
   },
   "inputWidgetPreferences": null,
   "language": "python",
   "notebookMetadata": {
    "pythonIndentUnit": 4
   },
   "notebookName": "GIT_Main",
   "widgets": {}
  },
  "language_info": {
   "name": "python"
  }
 },
 "nbformat": 4,
 "nbformat_minor": 0
}
