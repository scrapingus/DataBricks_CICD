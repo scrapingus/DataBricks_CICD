{
 "cells": [
  {
   "cell_type": "code",
   "execution_count": 0,
   "metadata": {
    "application/vnd.databricks.v1+cell": {
     "cellMetadata": {
      "byteLimit": 2048000,
      "rowLimit": 10000
     },
     "inputWidgets": {},
     "nuid": "8158815b-2f7a-405d-b754-f76ff6bb954c",
     "showTitle": false,
     "tableResultSettingsMap": {},
     "title": ""
    }
   },
   "outputs": [],
   "source": [
    "print(\"The Spark Session is active\")"
   ]
  },
  {
   "cell_type": "code",
   "execution_count": 0,
   "metadata": {
    "application/vnd.databricks.v1+cell": {
     "cellMetadata": {
      "byteLimit": 2048000,
      "rowLimit": 10000
     },
     "inputWidgets": {},
     "nuid": "025f90f6-82f0-4fc3-8270-d314fb521e76",
     "showTitle": false,
     "tableResultSettingsMap": {},
     "title": ""
    }
   },
   "outputs": [],
   "source": [
    "from pyspark.sql.types import StructType, StructField, IntegerType, StringType, TimestampType, DoubleType\n",
    "from datetime import datetime\n",
    "\n",
    "schema = StructType([\n",
    "    StructField(\"transactionID\", IntegerType(), False),\n",
    "    StructField(\"customerID\", IntegerType(), False),\n",
    "    StructField(\"franchiseID\", IntegerType(), False),\n",
    "    StructField(\"dateTime\", TimestampType(), False),\n",
    "    StructField(\"product\", StringType(), False),\n",
    "    StructField(\"quantity\", IntegerType(), False),\n",
    "    StructField(\"unitPrice\", DoubleType(), False),\n",
    "    StructField(\"totalPrice\", DoubleType(), False),\n",
    "    StructField(\"paymentMethod\", StringType(), False),\n",
    "    StructField(\"cardNumber\", StringType(), True)\n",
    "])\n",
    "\n",
    "data = [\n",
    "    (1, 101, 10, datetime(2025, 7, 20, 9, 0, 0), \"Croissant\", 2, 3.5, 7.0, \"Credit Card\", \"1234-5678-9012-3456\"),\n",
    "    (2, 102, 11, datetime(2025, 7, 20, 10, 15, 0), \"Baguette\", 1, 2.0, 2.0, \"Cash\", None),\n",
    "    (3, 103, 10, datetime(2025, 7, 20, 11, 30, 0), \"Muffin\", 3, 2.5, 7.5, \"Debit Card\", \"2345-6789-0123-4567\")\n",
    "]\n",
    "data2 = [\n",
    "    (4, 106, 20, datetime(2125, 7, 20, 9, 0, 0), \"Croissant\", 2, 3.5, 7.0, \"Debit Card\", \"1234-5678-9012-3456\"),\n",
    "    (5, 105, 21, datetime(2125, 7, 20, 10, 15, 0), \"Baguette\", 1, 2.0, 2.0, \"UPI\", None),\n",
    "    (6, 104, 20, datetime(2125, 7, 20, 11, 30, 0), \"Muffin\", 3, 2.5, 7.5, \"SSN Card\", \"689-23-4567\")\n",
    "]\n",
    "\n",
    "df = spark.createDataFrame(data, schema=schema)\n",
    "\n",
    "# Create the schema if it does not exist\n",
    "spark.sql(\"CREATE SCHEMA IF NOT EXISTS dataengineering\")\n",
    "\n",
    "df.write.format(\"delta\").mode(\"overwrite\").saveAsTable(\"dataengineering.bakehouse_sample_transactions\")\n",
    "\n",
    "display(spark.table(\"dataengineering.bakehouse_sample_transactions\"))"
   ]
  },
  {
   "cell_type": "code",
   "execution_count": 0,
   "metadata": {
    "application/vnd.databricks.v1+cell": {
     "cellMetadata": {
      "byteLimit": 2048000,
      "rowLimit": 10000
     },
     "inputWidgets": {},
     "nuid": "f116808b-6c90-45f5-ab82-8b9cc0a850d3",
     "showTitle": false,
     "tableResultSettingsMap": {},
     "title": ""
    }
   },
   "outputs": [],
   "source": [
    "display(spark.table(\"dataengineering.bakehouse_sample_transactions\"))"
   ]
  },
  {
   "cell_type": "code",
   "execution_count": 0,
   "metadata": {
    "application/vnd.databricks.v1+cell": {
     "cellMetadata": {
      "byteLimit": 2048000,
      "rowLimit": 10000
     },
     "inputWidgets": {},
     "nuid": "0431791d-8f87-42c1-8887-2d79cdabb048",
     "showTitle": false,
     "tableResultSettingsMap": {},
     "title": ""
    }
   },
   "outputs": [],
   "source": [
    "# Ensure data2 and data are DataFrames\n",
    "data2_df = spark.createDataFrame(data2)\n",
    "data_df = spark.createDataFrame(data)\n",
    "display(data2_df)\n",
    "display(data_df)\n",
    "# Perform the join operation\n",
    "#joiner = data2_df.join(data_df, data2_df[\"product\"] == data_df[\"product\"], \"inner\")\n",
    "#display(joiner)"
   ]
  },
  {
   "cell_type": "code",
   "execution_count": 0,
   "metadata": {
    "application/vnd.databricks.v1+cell": {
     "cellMetadata": {
      "byteLimit": 2048000,
      "rowLimit": 10000
     },
     "inputWidgets": {},
     "nuid": "fe732298-afa0-406f-8d53-2afef0188708",
     "showTitle": false,
     "tableResultSettingsMap": {},
     "title": ""
    }
   },
   "outputs": [],
   "source": [
    "# Rename columns of a DataFrame\n",
    "new_column_names = [\"transactionID\", \"customerID\", \"franchiseID\",\"dateTime\", \"product\", \"quantity\", \"unitPrice\", \"totalPrice\", \"paymentMethod\", \"cardNumber\"]  # Replace with your desired column names\n",
    "data_df = data_df.toDF(*new_column_names)\n",
    "display(data_df)"
   ]
  },
  {
   "cell_type": "code",
   "execution_count": 0,
   "metadata": {
    "application/vnd.databricks.v1+cell": {
     "cellMetadata": {
      "byteLimit": 2048000,
      "rowLimit": 10000
     },
     "inputWidgets": {},
     "nuid": "9ee93756-2531-4107-b536-9a003fdb0caa",
     "showTitle": false,
     "tableResultSettingsMap": {},
     "title": ""
    }
   },
   "outputs": [],
   "source": [
    "display(data2_df)\n",
    "display(data_df)"
   ]
  },
  {
   "cell_type": "code",
   "execution_count": 0,
   "metadata": {
    "application/vnd.databricks.v1+cell": {
     "cellMetadata": {},
     "inputWidgets": {},
     "nuid": "320f6533-e7f8-4304-9b7c-d9cc30b9746b",
     "showTitle": false,
     "tableResultSettingsMap": {},
     "title": ""
    }
   },
   "outputs": [],
   "source": []
  }
 ],
 "metadata": {
  "application/vnd.databricks.v1+notebook": {
   "computePreferences": null,
   "dashboards": [],
   "environmentMetadata": {
    "base_environment": "",
    "environment_version": "2"
   },
   "inputWidgetPreferences": null,
   "language": "python",
   "notebookMetadata": {
    "pythonIndentUnit": 4
   },
   "notebookName": "GIT_Main",
   "widgets": {}
  },
  "language_info": {
   "name": "python"
  }
 },
 "nbformat": 4,
 "nbformat_minor": 0
}
